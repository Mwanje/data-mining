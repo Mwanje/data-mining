{
 "cells": [
  {
   "cell_type": "markdown",
   "id": "69933b0f",
   "metadata": {},
   "source": [
    "# Artificial Neural Networks Lab work"
   ]
  },
  {
   "cell_type": "code",
   "execution_count": 55,
   "id": "a2ddce24",
   "metadata": {},
   "outputs": [],
   "source": [
    "#Name: Mwanje Musa\n",
    "#Reg No: MAY22/MSC/1615U\n",
    "#Programme: MSc. COMP (CS)"
   ]
  },
  {
   "cell_type": "code",
   "execution_count": 56,
   "id": "ff094854",
   "metadata": {},
   "outputs": [],
   "source": [
    "#!pip install numpy==1.21.4"
   ]
  },
  {
   "cell_type": "code",
   "execution_count": 57,
   "id": "9e66526b",
   "metadata": {},
   "outputs": [],
   "source": [
    "import numpy as np # import Numpy library to generate \n",
    "\n",
    "weights = np.around(np.random.uniform(size=6), decimals=2) # initialize the weights\n",
    "biases = np.around(np.random.uniform(size=3), decimals=2) # initialize the biases"
   ]
  },
  {
   "cell_type": "code",
   "execution_count": 58,
   "id": "48052a0c",
   "metadata": {},
   "outputs": [
    {
     "name": "stdout",
     "output_type": "stream",
     "text": [
      "[0.57 0.74 0.33 0.9  0.58 0.15]\n",
      "[0.53 0.85 0.72]\n"
     ]
    }
   ],
   "source": [
    "#Let's print the weights and biases for sanity check.\n",
    "print(weights)\n",
    "print(biases)"
   ]
  },
  {
   "cell_type": "code",
   "execution_count": 59,
   "id": "455d66c5",
   "metadata": {},
   "outputs": [],
   "source": [
    "#compute the output for a given input,  x_1 and x_2.\n",
    "x_1 = 0.5 # input 1\n",
    "x_2 = 0.85 # input 2"
   ]
  },
  {
   "cell_type": "code",
   "execution_count": 60,
   "id": "3883c8f2",
   "metadata": {},
   "outputs": [
    {
     "name": "stdout",
     "output_type": "stream",
     "text": [
      "x1 is 0.5 and x2 is 0.85\n"
     ]
    }
   ],
   "source": [
    "print('x1 is {} and x2 is {}'.format(x_1, x_2))"
   ]
  },
  {
   "cell_type": "code",
   "execution_count": 61,
   "id": "1783ad18",
   "metadata": {},
   "outputs": [
    {
     "name": "stdout",
     "output_type": "stream",
     "text": [
      "The weighted sum of the inputs at the first node in the hidden layer is 1.444\n"
     ]
    }
   ],
   "source": [
    "#computing the wighted sum of the inputs,z_1,1 at the first node of the hidden layer.\n",
    "\n",
    "z_11 = x_1 * weights[0] + x_2 * weights[1] + biases[0]\n",
    "\n",
    "print('The weighted sum of the inputs at the first node in the hidden layer is {}'.format(z_11))"
   ]
  },
  {
   "cell_type": "code",
   "execution_count": 62,
   "id": "aab9f7a4",
   "metadata": {},
   "outputs": [],
   "source": [
    "#compute the weighted sum of the inputs,z_1,2 at the second node of the hidden layer. Assign the value to z_12."
   ]
  },
  {
   "cell_type": "code",
   "execution_count": 63,
   "id": "681a490d",
   "metadata": {},
   "outputs": [
    {
     "name": "stdout",
     "output_type": "stream",
     "text": [
      "The weighted sum of the inputs at the second node in the hidden layer is 1.78\n"
     ]
    }
   ],
   "source": [
    "z_12 = x_1 * weights[2] + x_2 * weights[3] + biases[1]\n",
    "\n",
    "print('The weighted sum of the inputs at the second node in the hidden layer is {}'.format(z_12))"
   ]
  },
  {
   "cell_type": "code",
   "execution_count": 64,
   "id": "ba866488",
   "metadata": {},
   "outputs": [
    {
     "name": "stdout",
     "output_type": "stream",
     "text": [
      "The weighted sum of the inputs at the second node in the hidden layer is 1.78\n"
     ]
    }
   ],
   "source": [
    "print('The weighted sum of the inputs at the second node in the hidden layer is {}'.format(np.around(z_12, decimals=4)))"
   ]
  },
  {
   "cell_type": "code",
   "execution_count": 65,
   "id": "4fbdd51b",
   "metadata": {},
   "outputs": [],
   "source": [
    "#assuming a sigmoid activation function, let's compute the activation of the first node, , in the hidden layer."
   ]
  },
  {
   "cell_type": "code",
   "execution_count": 66,
   "id": "3278d94a",
   "metadata": {},
   "outputs": [
    {
     "name": "stdout",
     "output_type": "stream",
     "text": [
      "The activation of the first node in the hidden layer is 0.8091\n"
     ]
    }
   ],
   "source": [
    "a_11 = 1.0 / (1.0 + np.exp(-z_11))\n",
    "\n",
    "print('The activation of the first node in the hidden layer is {}'.format(np.around(a_11, decimals=4)))"
   ]
  },
  {
   "cell_type": "code",
   "execution_count": 67,
   "id": "89396093",
   "metadata": {},
   "outputs": [],
   "source": [
    "#compute the activation of the second node,a_1,2, in the hidden layer. Assign the value to a_12."
   ]
  },
  {
   "cell_type": "code",
   "execution_count": 68,
   "id": "8088ba2e",
   "metadata": {},
   "outputs": [
    {
     "name": "stdout",
     "output_type": "stream",
     "text": [
      "The activation of the first node in the hidden layer is 0.8091\n"
     ]
    }
   ],
   "source": [
    "a_12 = 1.0 / (1.0 + np.exp(-z_12))\n",
    "\n",
    "print('The activation of the first node in the hidden layer is {}'.format(np.around(a_11, decimals=4)))"
   ]
  },
  {
   "cell_type": "code",
   "execution_count": 69,
   "id": "bc06de66",
   "metadata": {},
   "outputs": [],
   "source": [
    "#Now these activations will serve as the inputs to the output layer. So, let's compute the weighted sum of these inputs to the node in the output layer. Assign the value to z_2."
   ]
  },
  {
   "cell_type": "code",
   "execution_count": 70,
   "id": "379cf245",
   "metadata": {},
   "outputs": [],
   "source": [
    "z_2 = a_11 * weights[4] + a_12 * weights[5] + biases[2]"
   ]
  },
  {
   "cell_type": "code",
   "execution_count": 71,
   "id": "ba91ba7d",
   "metadata": {},
   "outputs": [
    {
     "name": "stdout",
     "output_type": "stream",
     "text": [
      "The weighted sum of the inputs at the node in the output layer is 1.3176\n"
     ]
    }
   ],
   "source": [
    "print('The weighted sum of the inputs at the node in the output layer is {}'.format(np.around(z_2, decimals=4)))"
   ]
  },
  {
   "cell_type": "code",
   "execution_count": 72,
   "id": "452df3fb",
   "metadata": {},
   "outputs": [],
   "source": [
    "#Finally, let's compute the output of the network as the activation of the node in the output layer. \n",
    "#Assign the value to a_2."
   ]
  },
  {
   "cell_type": "code",
   "execution_count": 73,
   "id": "2a25d4c4",
   "metadata": {},
   "outputs": [
    {
     "name": "stdout",
     "output_type": "stream",
     "text": [
      "The output of the network for x1 = 0.5 and x2 = 0.85 is 0.7888\n"
     ]
    }
   ],
   "source": [
    "a_2 = 1.0 / (1.0 + np.exp(-z_2))\n",
    "print('The output of the network for x1 = 0.5 and x2 = 0.85 is {}'.format(np.around(a_2, decimals=4))) "
   ]
  }
 ],
 "metadata": {
  "kernelspec": {
   "display_name": "Python 3 (ipykernel)",
   "language": "python",
   "name": "python3"
  },
  "language_info": {
   "codemirror_mode": {
    "name": "ipython",
    "version": 3
   },
   "file_extension": ".py",
   "mimetype": "text/x-python",
   "name": "python",
   "nbconvert_exporter": "python",
   "pygments_lexer": "ipython3",
   "version": "3.9.12"
  }
 },
 "nbformat": 4,
 "nbformat_minor": 5
}
